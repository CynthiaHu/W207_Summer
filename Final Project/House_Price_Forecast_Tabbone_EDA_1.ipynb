{
 "cells": [
  {
   "cell_type": "markdown",
   "metadata": {},
   "source": [
    "# House Price Forecast Tabbone EDA 1"
   ]
  },
  {
   "cell_type": "code",
   "execution_count": 18,
   "metadata": {
    "collapsed": false
   },
   "outputs": [],
   "source": [
    "# This tells matplotlib not to try opening a new window for each plot.\n",
    "%matplotlib inline\n",
    "\n",
    "# General libraries.\n",
    "import numpy as np\n",
    "import pandas as pd\n",
    "import itertools as izip"
   ]
  },
  {
   "cell_type": "markdown",
   "metadata": {},
   "source": [
    "Determine the mean price per square foot and use that to make baseline predictions."
   ]
  },
  {
   "cell_type": "code",
   "execution_count": 3,
   "metadata": {
    "collapsed": false
   },
   "outputs": [
    {
     "name": "stdout",
     "output_type": "stream",
     "text": [
      "Average price per square foot: $120.00\n"
     ]
    }
   ],
   "source": [
    "# Load training data\n",
    "train_data = pd.read_csv(\"train.csv\")\n",
    "# vector of training prices\n",
    "train_price = train_data['SalePrice']\n",
    "# vector of training squarefeet\n",
    "train_sqft = train_data['GrLivArea']\n",
    "# determine the average price per square foot\n",
    "tmp = [train_price[x]/train_sqft[x] for x in range(len(train_price))]\n",
    "train_ppsqft = sum(tmp)/len(tmp)\n",
    "print(\"Average price per square foot: ${0:3.2f}\".format(train_ppsqft))\n",
    "\n",
    "# load test data\n",
    "test_data = pd.read_csv(\"test.csv\")\n",
    "# identify squarefootage vector from test data\n",
    "test_sqft = np.array(test_data['GrLivArea'])\n",
    "# predict prices by applying average sq foot price to test data square footage\n",
    "predictions = test_sqft*train_ppsqft\n",
    "\n",
    "# isolate target sale prices (except we don't have price data in the test set)\n",
    "# Kagle will do this for us\n",
    "#test_prices = np.array(test_data['SalePrice'])\n",
    "# determine baseline error\n",
    "#squared_errors = (test_prices - predictions)^2\n",
    "#sse = sum(squared_errors)\n",
    "#mse = mean(squared_errors)\n",
    "#print(\"Mean squared error: {0:3.3f} Sum of Squared Errors: {0:3.3f}\".format(mse,sse))\n"
   ]
  },
  {
   "cell_type": "markdown",
   "metadata": {},
   "source": [
    "Now we need to save the output to a textfile, and upload the results to kaggle!\n",
    "\n",
    "Read the data page to make you submission the right format:\n",
    "https://www.kaggle.com/c/house-prices-advanced-regression-techniques#evaluation\n"
   ]
  },
  {
   "cell_type": "code",
   "execution_count": 29,
   "metadata": {
    "collapsed": false
   },
   "outputs": [],
   "source": [
    "def write_csv(predictions,file_name):\n",
    "    offset = 1461\n",
    "    lines = list()\n",
    "    lines.append(\"Id,SalePrice\")\n",
    "    for index,prediction in enumerate(predictions):\n",
    "        index += offset;\n",
    "        lines.append(\"{0:4d},{1:} \".format(index,prediction))\n",
    "    with open(file_name, 'w') as file:\n",
    "        file.writelines(\"%s\\n\" % line for line in lines)"
   ]
  },
  {
   "cell_type": "markdown",
   "metadata": {},
   "source": [
    "Determine the average price per square foot per neighborhood"
   ]
  },
  {
   "cell_type": "code",
   "execution_count": 30,
   "metadata": {
    "collapsed": false
   },
   "outputs": [],
   "source": [
    "train_df = pd.DataFrame(train_data)\n",
    "neighborhoods = train_df.Neighborhood.unique()\n",
    "neighborhood_lookup = {}\n",
    "for neighborhood in neighborhoods:\n",
    "    tmp_df = train_df.loc[train_df['Neighborhood'] == neighborhood]\n",
    "    prices = sum(tmp_df['SalePrice'])\n",
    "    sqfeet = sum(tmp_df['GrLivArea'])\n",
    "    #print prices, sqfeet\n",
    "    neighborhood_lookup[neighborhood] = float(prices/sqfeet)\n",
    "\n",
    "test_df = pd.DataFrame(test_data)\n",
    "\n",
    "predictions = list()\n",
    "for neighborhood, sqft in izip.izip(test_df.Neighborhood,test_df.GrLivArea):\n",
    "    multiplier = neighborhood_lookup[neighborhood]\n",
    "    predictions.append(multiplier*sqft)\n",
    "\n",
    "   \n",
    "write_csv(predictions,'Pred2')\n",
    "    "
   ]
  },
  {
   "cell_type": "code",
   "execution_count": null,
   "metadata": {
    "collapsed": true
   },
   "outputs": [],
   "source": []
  }
 ],
 "metadata": {
  "anaconda-cloud": {},
  "kernelspec": {
   "display_name": "Python [Root]",
   "language": "python",
   "name": "Python [Root]"
  },
  "language_info": {
   "codemirror_mode": {
    "name": "ipython",
    "version": 3
   },
   "file_extension": ".py",
   "mimetype": "text/x-python",
   "name": "python",
   "nbconvert_exporter": "python",
   "pygments_lexer": "ipython3",
   "version": "3.5.2"
  }
 },
 "nbformat": 4,
 "nbformat_minor": 0
}
