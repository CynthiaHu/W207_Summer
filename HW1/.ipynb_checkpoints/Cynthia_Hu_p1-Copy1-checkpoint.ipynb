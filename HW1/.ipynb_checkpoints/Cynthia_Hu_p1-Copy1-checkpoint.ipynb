{
 "cells": [
  {
   "cell_type": "markdown",
   "metadata": {},
   "source": [
    "# Project 1: Digit Classification with KNN and Naive Bayes"
   ]
  },
  {
   "cell_type": "markdown",
   "metadata": {},
   "source": [
    "In this project, you'll implement your own image recognition system for classifying digits. Read through the code and the instructions carefully and add your own code where indicated. Each problem can be addressed succinctly with the included packages -- please don't add any more. Grading will be based on writing clean, commented code, along with a few short answers.\n",
    "\n",
    "As always, you're welcome to work on the project in groups and discuss ideas on the course wall, but <b> please prepare your own write-up (with your own code). </b>\n",
    "\n",
    "If you're interested, check out these links related to digit recognition:\n",
    "\n",
    "Yann Lecun's MNIST benchmarks: http://yann.lecun.com/exdb/mnist/\n",
    "\n",
    "Stanford Streetview research and data: http://ufldl.stanford.edu/housenumbers/"
   ]
  },
  {
   "cell_type": "code",
   "execution_count": 1,
   "metadata": {
    "collapsed": false
   },
   "outputs": [],
   "source": [
    "# This tells matplotlib not to try opening a new window for each plot.\n",
    "%matplotlib inline\n",
    "\n",
    "# Import a bunch of libraries.\n",
    "import time\n",
    "import numpy as np\n",
    "import matplotlib.pyplot as plt\n",
    "from matplotlib.ticker import MultipleLocator\n",
    "from sklearn.pipeline import Pipeline\n",
    "from sklearn.datasets import fetch_mldata\n",
    "from sklearn.neighbors import KNeighborsClassifier\n",
    "from sklearn.metrics import confusion_matrix\n",
    "from sklearn.linear_model import LinearRegression\n",
    "from sklearn.naive_bayes import BernoulliNB\n",
    "from sklearn.naive_bayes import MultinomialNB\n",
    "from sklearn.naive_bayes import GaussianNB\n",
    "from sklearn.grid_search import GridSearchCV\n",
    "from sklearn.metrics import classification_report\n",
    "\n",
    "# Set the randomizer seed so results are the same each time.\n",
    "np.random.seed(0)"
   ]
  },
  {
   "cell_type": "markdown",
   "metadata": {},
   "source": [
    "Load the data. Notice that we are splitting the data into training, development, and test. We also have a small subset of the training data called mini_train_data and mini_train_labels that you should use in all the experiments below, unless otherwise noted."
   ]
  },
  {
   "cell_type": "code",
   "execution_count": 3,
   "metadata": {
    "collapsed": false
   },
   "outputs": [
    {
     "name": "stdout",
     "output_type": "stream",
     "text": [
      "data shape:  (70000, 784)\n",
      "label shape: (70000,)\n"
     ]
    }
   ],
   "source": [
    "# Load the digit data either from mldata.org, or once downloaded to data_home, from disk. The data is about 53MB so this cell\n",
    "# should take a while the first time your run it.\n",
    "mnist = fetch_mldata('MNIST original', data_home='~/datasets/mnist')\n",
    "X, Y = mnist.data, mnist.target\n",
    "\n",
    "# Rescale grayscale values to [0,1].\n",
    "X = X / 255.0\n",
    "\n",
    "# Shuffle the input: create a random permutation of the integers between 0 and the number of data points and apply this\n",
    "# permutation to X and Y.\n",
    "# NOTE: Each time you run this cell, you'll re-shuffle the data, resulting in a different ordering.\n",
    "shuffle = np.random.permutation(np.arange(X.shape[0]))\n",
    "X, Y = X[shuffle], Y[shuffle]\n",
    "\n",
    "print('data shape: ', X.shape)\n",
    "print('label shape:', Y.shape)\n",
    "\n",
    "# Set some variables to hold test, dev, and training data.\n",
    "test_data, test_labels = X[61000:], Y[61000:]\n",
    "dev_data, dev_labels = X[60000:61000], Y[60000:61000]\n",
    "train_data, train_labels = X[:60000], Y[:60000]\n",
    "mini_train_data, mini_train_labels = X[:1000], Y[:1000]"
   ]
  },
  {
   "cell_type": "markdown",
   "metadata": {},
   "source": [
    "(1) Create a 10x10 grid to visualize 10 examples of each digit. Python hints:\n",
    "\n",
    "- plt.rc() for setting the colormap, for example to black and white\n",
    "- plt.subplot() for creating subplots\n",
    "- plt.imshow() for rendering a matrix\n",
    "- np.array.reshape() for reshaping a 1D feature vector into a 2D matrix (for rendering)"
   ]
  },
  {
   "cell_type": "code",
   "execution_count": 4,
   "metadata": {
    "collapsed": false
   },
   "outputs": [
    {
     "data": {
      "image/png": "[encoded data removed]",
      "text/plain": [
       "<matplotlib.figure.Figure at 0x171d9b3b550>"
      ]
     },
     "metadata": {},
     "output_type": "display_data"
    }
   ],
   "source": [
    "#def P1(num_examples=10):\n",
    "\n",
    "### STUDENT START ###\n",
    "def P1(num_examples=10):\n",
    "    # extract examples for each digit from mini_train_data\n",
    "    for i in range(10):\n",
    "        loc = np.where(mini_train_labels)\n",
    "        examples = mini_train_data[loc]\n",
    "        # for each digit, extract first 10 examples\n",
    "        for index in range(num_examples):\n",
    "            # reshape a 1D feature vector into a 2D matrix for plotting\n",
    "            image = examples[index,].reshape((28,28))\n",
    "            label = i\n",
    "    \n",
    "    # Set a black on white colormap.\n",
    "    plt.rc('image', cmap='binary', interpolation='none')\n",
    "    # extract the first 10 examples from the raw shuffled data sets with labels\n",
    "    for index in range(num_examples): \n",
    "        # reshape a 1D feature vector into a 2D matrix for plotting\n",
    "        image = X[index,].reshape((28,28))\n",
    "        label = Y[index]\n",
    "\n",
    "        # create subplots, 2 rows and 5 columns\n",
    "        plt.subplot(2, 5, index+1) \n",
    "        plt.axis('off')\n",
    "        # plot numpy arrays as image\n",
    "        plt.imshow(image)\n",
    "        # plt.imshow(image, cmap=plt.cm.gray_r, interpolation='nearest')\n",
    "        # add a label to each image\n",
    "        plt.title('Label: %i' % label) \n",
    "      \n",
    "        \n",
    "P1(10)\n",
    "### STUDENT END ###"
   ]
  },
  {
   "cell_type": "code",
   "execution_count": 161,
   "metadata": {
    "collapsed": false
   },
   "outputs": [
    {
     "name": "stdout",
     "output_type": "stream",
     "text": [
      "0\n",
      "1\n",
      "2\n",
      "3\n",
      "4\n",
      "5\n",
      "6\n",
      "7\n",
      "8\n",
      "9\n"
     ]
    }
   ],
   "source": [
    "a=np.where(dev_labels==1)\n",
    "b = dev_data[a]\n",
    "for i in range(10):\n",
    "    print(i)"
   ]
  },
  {
   "cell_type": "markdown",
   "metadata": {},
   "source": [
    "(2) Evaluate a K-Nearest-Neighbors model with k = [1,3,5,7,9] using the mini training set. Report accuracy on the dev set. For k=1, show precision, recall, and F1 for each label. Which is the most difficult digit?\n",
    "\n",
    "- KNeighborsClassifier() for fitting and predicting\n",
    "- classification_report() for producing precision, recall, F1 results"
   ]
  },
  {
   "cell_type": "code",
   "execution_count": 4,
   "metadata": {
    "collapsed": false
   },
   "outputs": [
    {
     "name": "stdout",
     "output_type": "stream",
     "text": [
      "K-Nearest-Neighbors accuracy with 1 neighbors is: 0.888\n",
      "Classification report for classifier KNeighborsClassifier(algorithm='auto', leaf_size=30, metric='minkowski',\n",
      "           metric_params=None, n_jobs=1, n_neighbors=1, p=2,\n",
      "           weights='uniform'):\n",
      "             precision    recall  f1-score   support\n",
      "\n",
      "        0.0       0.91      0.98      0.94        99\n",
      "        1.0       0.89      1.00      0.94       105\n",
      "        2.0       0.99      0.79      0.88       102\n",
      "        3.0       0.77      0.87      0.82        86\n",
      "        4.0       0.89      0.82      0.85       104\n",
      "        5.0       0.93      0.84      0.88        91\n",
      "        6.0       0.94      0.96      0.95        98\n",
      "        7.0       0.89      0.92      0.90       113\n",
      "        8.0       0.94      0.88      0.91        96\n",
      "        9.0       0.78      0.82      0.80       106\n",
      "\n",
      "avg / total       0.89      0.89      0.89      1000\n",
      "\n",
      "\n",
      "K-Nearest-Neighbors accuracy with 3 neighbors is: 0.878\n",
      "K-Nearest-Neighbors accuracy with 5 neighbors is: 0.869\n",
      "K-Nearest-Neighbors accuracy with 7 neighbors is: 0.865\n",
      "K-Nearest-Neighbors accuracy with 9 neighbors is: 0.863\n"
     ]
    }
   ],
   "source": [
    "#def P2(k_values):\n",
    "\n",
    "### STUDENT START ###\n",
    "def P2(k_values):\n",
    "    k_values = [1, 3, 5, 7, 9]\n",
    "    # from sklearn.metrics import accuracy_score\n",
    "    for k in k_values:\n",
    "        # create a K-Nearest_neighbors classifier\n",
    "        knn = KNeighborsClassifier(n_neighbors=k)\n",
    "        # learn the digits using mini training set\n",
    "        knn.fit(mini_train_data,mini_train_labels)\n",
    "        # predict on the dev set for evaluation\n",
    "        pred = knn.predict(dev_data)\n",
    "        # report accuracy on the dev set ?? vs. pred above\n",
    "        print(\"K-Nearest-Neighbors accuracy with %s neighbors is:\" % k,knn.score(dev_data,dev_labels))\n",
    "        # print(\"Compare: K-Nearest-Neighbors accuracy with %s neighbors is:\" % k,accuracy_score(dev_labels,pred))\n",
    "        # show classification report when k=1\n",
    "        if k==1:\n",
    "            print(\"Classification report for classifier %s:\\n%s\\n\" \n",
    "                   % (knn, classification_report(dev_labels, pred))) \n",
    "    \n",
    "### STUDENT END ###\n",
    "\n",
    "#k_values = [1, 3, 5, 7, 9]\n",
    "#P2(k_values)"
   ]
  },
  {
   "cell_type": "markdown",
   "metadata": {},
   "source": [
    "ANSWER: The most difficult digit is 9 based on f1-score."
   ]
  },
  {
   "cell_type": "markdown",
   "metadata": {},
   "source": [
    "(3) Using k=1, report dev set accuracy for the training set sizes below. Also, measure the amount of time needed for prediction with each training size.\n",
    "\n",
    "- time.time() gives a wall clock value you can use for timing operations"
   ]
  },
  {
   "cell_type": "code",
   "execution_count": 24,
   "metadata": {
    "collapsed": false
   },
   "outputs": [
    {
     "name": "stdout",
     "output_type": "stream",
     "text": [
      "K-Nearest-Neighbors accuracy with 100 training size is: 0.72\n",
      "Time needed for prediction with training size 100 is: 0.12 seconds.\n",
      "\n",
      "K-Nearest-Neighbors accuracy with 200 training size is: 0.786\n",
      "Time needed for prediction with training size 200 is: 0.21 seconds.\n",
      "\n",
      "K-Nearest-Neighbors accuracy with 400 training size is: 0.841\n",
      "Time needed for prediction with training size 400 is: 0.46 seconds.\n",
      "\n",
      "K-Nearest-Neighbors accuracy with 800 training size is: 0.884\n",
      "Time needed for prediction with training size 800 is: 0.93 seconds.\n",
      "\n",
      "K-Nearest-Neighbors accuracy with 1600 training size is: 0.902\n",
      "Time needed for prediction with training size 1600 is: 1.85 seconds.\n",
      "\n",
      "K-Nearest-Neighbors accuracy with 3200 training size is: 0.926\n",
      "Time needed for prediction with training size 3200 is: 3.70 seconds.\n",
      "\n",
      "K-Nearest-Neighbors accuracy with 6400 training size is: 0.937\n",
      "Time needed for prediction with training size 6400 is: 7.40 seconds.\n",
      "\n",
      "K-Nearest-Neighbors accuracy with 12800 training size is: 0.959\n",
      "Time needed for prediction with training size 12800 is: 14.83 seconds.\n",
      "\n",
      "K-Nearest-Neighbors accuracy with 25000 training size is: 0.97\n",
      "Time needed for prediction with training size 25000 is: 29.19 seconds.\n",
      "\n",
      "[0.71999999999999997, 0.78600000000000003, 0.84099999999999997, 0.88400000000000001, 0.90200000000000002, 0.92600000000000005, 0.93700000000000006, 0.95899999999999996, 0.96999999999999997]\n"
     ]
    }
   ],
   "source": [
    "#def P3(train_sizes, accuracies):\n",
    "\n",
    "### STUDENT START ###\n",
    "# it's better to define a function which could be called next\n",
    "train_sizes = [100, 200, 400, 800, 1600, 3200, 6400, 12800, 25000]\n",
    "accuracies = []\n",
    "k2 =1\n",
    "for s in train_sizes:\n",
    "    # create another K-Nearest_neighbors classifier\n",
    "    knn2 = KNeighborsClassifier(n_neighbors=k2)\n",
    "    # learn the digits using a subset of the training set with the training size specified\n",
    "    knn2.fit(train_data[:s],train_labels[:s])\n",
    "    # predict on the dev set for evaluation\n",
    "    # and calculate the time elapsed for the prediction process with different training size\n",
    "    start_time = time.time()\n",
    "    pred2 = knn2.predict(dev_data)\n",
    "    elapsed_time = time.time() - start_time\n",
    "    # report accuracy on the dev set\n",
    "    print(\"K-Nearest-Neighbors accuracy with %s training size is:\" % s,knn2.score(dev_data,dev_labels))\n",
    "    print(\"Time needed for prediction with training size %s is: %.2f seconds.\" % (s, elapsed_time))\n",
    "    print()\n",
    "    accuracies.append(round(knn2.score(dev_data,dev_labels),4))\n",
    "print(accuracies)\n",
    "### STUDENT END ###\n",
    "\n",
    "#train_sizes = [100, 200, 400, 800, 1600, 3200, 6400, 12800, 25000]\n",
    "#accuracies = []\n",
    "#P3(train_sizes, accuracies)"
   ]
  },
  {
   "cell_type": "markdown",
   "metadata": {},
   "source": [
    "(4) Fit a regression model that predicts accuracy from training size. What does it predict for n=60000? What's wrong with using regression here? Can you apply a transformation that makes the predictions more reasonable?\n",
    "\n",
    "- Remember that the sklearn fit() functions take an input matrix X and output vector Y. So each input example in X is a vector, even if it contains only a single value."
   ]
  },
  {
   "cell_type": "code",
   "execution_count": 81,
   "metadata": {
    "collapsed": false
   },
   "outputs": [
    {
     "name": "stdout",
     "output_type": "stream",
     "text": [
      "Simple Linear Regression: \n",
      "Slope: 0.000\n",
      "Intercept: 0.843\n",
      "Accuracy prediction for training size 60000 from the simple regression model is 1.243\n",
      "\n",
      "After Tranform Variables: \n",
      "Accuracy prediction for training size 60000 from logistic regression model is 0.999\n"
     ]
    }
   ],
   "source": [
    "#def P4():\n",
    "\n",
    "### STUDENT START ###\n",
    "# need to correctly understand the request\n",
    "# to simplify the task, above train_size data will be used to fit the regression model\n",
    "# convert X, y into matrix and array respectively\n",
    "Y_accuracies = np.array(accuracies)\n",
    "X_size = np.array(train_sizes).reshape(-1, 1)\n",
    "# fit a regression model\n",
    "lr = LinearRegression()\n",
    "lr.fit(X_size, Y_accuracies)\n",
    "print(\"Simple Linear Regression Model: \")\n",
    "print('Slope: %.3f' % lr.coef_[0])\n",
    "print('Intercept: %.3f' % lr.intercept_)\n",
    "# predict for n=60000\n",
    "n = 60000\n",
    "lr_pred = lr.predict(n)\n",
    "print('Accuracy prediction for training size 60000 from the simple regression model is %.3f' % lr_pred)\n",
    "\n",
    "# need to call above function to get actual accuracy for n=60000, should be close to 1.\n",
    "\n",
    "# The above forecast accuracy is greaterh than 1 which is problematic\n",
    "# Then we try to transform X variable, using the inverse form: Y=1- b*(1/X)\n",
    "\n",
    "# Log_X_size = np.array(list(map(math.log,train_sizes))).reshape(-1,1)\n",
    "lr2 = LinearRegression(fit_intercept = False)\n",
    "lr2.fit(1/X_size, 1-Y_accuracies)\n",
    "print()\n",
    "print(\"After Tranform Variables: \")\n",
    "lr2_pred = 1 - lr2.coef_[0]*(1/n)\n",
    "print('Accuracy prediction for training size 60000 from model with tranformed variables is %.3f' % lr2_pred)\n",
    "\n",
    "### STUDENT END ###\n",
    "\n",
    "#P4()"
   ]
  },
  {
   "cell_type": "markdown",
   "metadata": {},
   "source": [
    "ANSWER: The simple linear model will not ensure the accuracy prediction fall in the range [0, 1] as the accuracy will increase linearly with the sample size. Thus, we could tranform the variables and model is in the form of Y = 1 - a* (1/X) so that prediction will always be in [0, 1] range."
   ]
  },
  {
   "cell_type": "markdown",
   "metadata": {},
   "source": [
    "Fit a 1-NN and output a confusion matrix for the dev data. Use the confusion matrix to identify the most confused pair of digits, and display a few example mistakes.\n",
    "\n",
    "- confusion_matrix() produces a confusion matrix"
   ]
  },
  {
   "cell_type": "code",
   "execution_count": 7,
   "metadata": {
    "collapsed": false
   },
   "outputs": [
    {
     "name": "stdout",
     "output_type": "stream",
     "text": [
      "Confusion matrix\n",
      "[[ 97   0   0   0   0   0   2   0   0   0]\n",
      " [  0 105   0   0   0   0   0   0   0   0]\n",
      " [  4   4  81   4   0   0   0   4   3   2]\n",
      " [  1   0   0  75   0   3   0   3   1   3]\n",
      " [  0   2   0   0  85   0   3   0   0  14]\n",
      " [  2   0   0   9   0  76   0   1   1   2]\n",
      " [  1   1   1   0   1   0  94   0   0   0]\n",
      " [  1   4   0   1   1   0   0 104   0   2]\n",
      " [  0   2   0   5   0   2   1   0  84   2]\n",
      " [  1   0   0   3   9   1   0   5   0  87]]\n"
     ]
    },
    {
     "data": {
      "image/png": "[encoded data removed]",
      "text/plain": [
       "<matplotlib.figure.Figure at 0x297db7749b0>"
      ]
     },
     "metadata": {},
     "output_type": "display_data"
    }
   ],
   "source": [
    "#def P5():\n",
    "\n",
    "### STUDENT START ###\n",
    "k3 = 1\n",
    "# create a third K-Nearest_neighbors classifier\n",
    "knn3 = KNeighborsClassifier(n_neighbors=k3)\n",
    "# learn the digits using mini training set\n",
    "knn3.fit(mini_train_data,mini_train_labels)\n",
    "# predict on the dev set for evaluation\n",
    "pred3 = knn3.predict(dev_data)\n",
    "# By definition, entry i, j in a confusion matrix is \n",
    "# the number of observations actually in group i, but predicted to be in group j\n",
    "# \"The diagonal elements represent the number of points for which the predicted label is \n",
    "# equal to the true label, while off-diagonal elements are those that are mislabeled by the classifier. \n",
    "# The higher the diagonal values of the confusion matrix the better, indicating many correct predictions.\"\n",
    "cnf = confusion_matrix(dev_labels, pred3)\n",
    "print(\"Confusion matrix\")\n",
    "print(cnf)\n",
    "# the most confused pair of digits are 4 and 9\n",
    "\n",
    "# plot the confusion _matrix\n",
    "import itertools\n",
    "def plot_confusion_matrix(cm, classes, title='Confusion matrix', cmap=plt.cm.Blues):\n",
    "    \"\"\"\n",
    "    This function plots the confusion matrix.\n",
    "    \"\"\"\n",
    "    plt.imshow(cm, interpolation='nearest', cmap=cmap)\n",
    "    plt.title(title)\n",
    "    plt.colorbar()\n",
    "    tick_marks = np.arange(len(classes))\n",
    "    plt.xticks(tick_marks, classes, rotation=45)\n",
    "    plt.yticks(tick_marks, classes)\n",
    "\n",
    "    thresh = cm.max() / 2.\n",
    "    for i, j in itertools.product(range(cm.shape[0]), range(cm.shape[1])):\n",
    "        plt.text(j, i, cm[i, j],\n",
    "                 horizontalalignment=\"center\",\n",
    "                 color=\"white\" if cm[i, j] > thresh else \"black\")\n",
    "\n",
    "    plt.tight_layout()\n",
    "    plt.ylabel('True label')\n",
    "    plt.xlabel('Predicted label')\n",
    "\n",
    "# Plot confusion matrix\n",
    "plt.figure()\n",
    "plot_confusion_matrix(cnf, classes=list(np.unique(Y)),\n",
    "                      title='Confusion matrix')\n",
    "plt.show()\n",
    "\n",
    "\n",
    "### STUDENT END ###\n",
    "\n",
    "#P5()"
   ]
  },
  {
   "cell_type": "markdown",
   "metadata": {},
   "source": [
    "(6) A common image processing technique is to smooth an image by blurring. The idea is that the value of a particular pixel is estimated as the weighted combination of the original value and the values around it. Typically, the blurring is Gaussian -- that is, the weight of a pixel's influence is determined by a Gaussian function over the distance to the relevant pixel.\n",
    "\n",
    "Implement a simplified Gaussian blur by just using the 8 neighboring pixels: the smoothed value of a pixel is a weighted combination of the original value and the 8 neighboring values. Try applying your blur filter in 3 ways:\n",
    "- preprocess the training data but not the dev data\n",
    "- preprocess the dev data but not the training data\n",
    "- preprocess both training and dev data\n",
    "\n",
    "Note that there are Guassian blur filters available, for example in scipy.ndimage.filters. You're welcome to experiment with those, but you are likely to get the best results with the simplified version I described above."
   ]
  },
  {
   "cell_type": "code",
   "execution_count": 151,
   "metadata": {
    "collapsed": false
   },
   "outputs": [
    {
     "name": "stdout",
     "output_type": "stream",
     "text": [
      "K-Nearest_Neighbors accuray: \n",
      "1. preprocess the training data but not dev data:  0.223\n",
      "2. preprocess the dev data but not training data:  0.556\n",
      "3. preprocess both training and dev data:  0.556\n"
     ]
    }
   ],
   "source": [
    "#def P6():\n",
    "    \n",
    "### STUDENT START ###\n",
    "\n",
    "def cal_distance(digit):\n",
    "    # calculate Gaussian distance which will be used as weights\n",
    "    # initialize a 3*3 distance matrix\n",
    "    dist = np.zeros((3,3))\n",
    "    # the pixel is always the center of the neigbor matrix (1,1)\n",
    "    # calculate the distance of each item in the neighbor matrix to the center\n",
    "    sigma = digit.std()\n",
    "    for i in range(3):\n",
    "        for j in range(3):\n",
    "            x = abs(i - 1)\n",
    "            y = abs(j - 1)\n",
    "            dist[i, j] = 1/(2*np.pi*sigma**2)*np.exp(-(x**2+y**2)/2*sigma**2)\n",
    "    return dist\n",
    "\n",
    "\n",
    "def Guassian_blur(digit, r, c):\n",
    "    # initialize a 3*3 neighbor matrix\n",
    "    neighbor = np.zeros((3,3))\n",
    "    for x in range(3):\n",
    "        for y in range(3):\n",
    "            #edge\n",
    "            if r==0 or c==0 or r==digit.shape[0]-1 or c==digit.shape[1]-1:\n",
    "                neighbor[x,y]=0\n",
    "            else:\n",
    "                neighbor[x,y] = digit[r-1+x, r-1+y]\n",
    "    dist = cal_distance(digit)  \n",
    "    smoothed_pixel = np.sum(neighbor * dist)/np.sum(dist)\n",
    "    return smoothed_pixel\n",
    "\n",
    "def blur_preprocess(data):\n",
    "    processed_data = np.zeros((data.shape[0],data.shape[1]))\n",
    "    for i in range(data.shape[0]):\n",
    "        blurred_img = np.zeros((28,28))\n",
    "        for r in range(28):\n",
    "            for c in range(28):\n",
    "                blurred_img[r, c] = Guassian_blur(data[i].reshape(28,28), r, c)\n",
    "        processed_data[i] = blurred_img.reshape(784)\n",
    "    return processed_data\n",
    "\n",
    "processed_mini_train_data = blur_preprocess(mini_train_data)\n",
    "processed_dev_data = blur_preprocess(dev_data)\n",
    "\n",
    "\n",
    "# use train data and evaluate on dev data\n",
    "# 1. preprocessing training data but not dev\n",
    "knn4 = KNeighborsClassifier(n_neighbors=1)\n",
    "knn4.fit(processed_mini_train_data,mini_train_labels)\n",
    "print(\"K-Nearest_Neighbors accuray: \")\n",
    "print(\"1. preprocess the training data but not dev data: \",knn4.score(dev_data,dev_labels))\n",
    "\n",
    "# 2. preprocessing dev but not training\n",
    "knn5 = KNeighborsClassifier(n_neighbors=1)\n",
    "knn5.fit(mini_train_data,mini_train_labels)\n",
    "print(\"2. preprocess the dev data but not training data: \",knn4.score(processed_dev_data,dev_labels))\n",
    "\n",
    "# 3. preprocessing both training and dev data\n",
    "knn5 = KNeighborsClassifier(n_neighbors=1)\n",
    "knn5.fit(processed_mini_train_data,mini_train_labels)\n",
    "print(\"3. preprocess both training and dev data: \",knn4.score(processed_dev_data,dev_labels))\n",
    "        \n",
    "#     np.mean([digit_blur[x][y] for x in range(i-1,i+2) for y in range(j-1,j+2)])\n",
    "    \n",
    "#     for r in range(rows):        \n",
    "#         for c in range(cols):            \n",
    "#             blurred_image[r,c] = np.sum(neighbors(image, r, c)*weights)/np.sum(weights)\n",
    "    \n",
    "\n",
    "### STUDENT END ###\n",
    "\n",
    "#P6()"
   ]
  },
  {
   "cell_type": "code",
   "execution_count": 146,
   "metadata": {
    "collapsed": false
   },
   "outputs": [
    {
     "data": {
      "text/plain": [
       "array([[ 0.,  1.,  0.],\n",
       "       [ 0.,  0.,  0.],\n",
       "       [ 0.,  0.,  0.]])"
      ]
     },
     "execution_count": 146,
     "metadata": {},
     "output_type": "execute_result"
    }
   ],
   "source": [
    "neighbor = np.zeros((3,3))\n",
    "neighbor[0,1]=1\n",
    "neighbor"
   ]
  },
  {
   "cell_type": "markdown",
   "metadata": {},
   "source": [
    "ANSWER:"
   ]
  },
  {
   "cell_type": "markdown",
   "metadata": {},
   "source": [
    "(7) Fit a Naive Bayes classifier and report accuracy on the dev data. Remember that Naive Bayes estimates P(feature|label). While sklearn can handle real-valued features, let's start by mapping the pixel values to either 0 or 1. You can do this as a preprocessing step, or with the binarize argument. With binary-valued features, you can use BernoulliNB. Next try mapping the pixel values to 0, 1, or 2, representing white, grey, or black. This mapping requires MultinomialNB. Does the multi-class version improve the results? Why or why not?"
   ]
  },
  {
   "cell_type": "code",
   "execution_count": 22,
   "metadata": {
    "collapsed": false
   },
   "outputs": [
    {
     "name": "stdout",
     "output_type": "stream",
     "text": [
      "Bernoulli accuracy: 0.81\n",
      "Multinomial accuracy: 0.80\n"
     ]
    }
   ],
   "source": [
    "#def P7():\n",
    "\n",
    "### STUDENT START ###\n",
    "\n",
    "\n",
    "# binary-valued features, use BernoulliNB\n",
    "# feature X already in range [0,1]\n",
    "bern = BernoulliNB(binarize=0.5)\n",
    "bern.fit(mini_train_data,mini_train_labels)\n",
    "print('Bernoulli accuracy: %3.2f' % bern.score(dev_data, dev_labels))\n",
    "\n",
    "# MultinomialNB\n",
    "mult = MultinomialNB()\n",
    "mult.fit(np.floor(mini_train_data*3),mini_train_labels)\n",
    "print('Multinomial accuracy: %3.2f' % mult.score(dev_data, dev_labels))\n",
    "  \n",
    "### STUDENT END ###\n",
    "\n",
    "#P7()"
   ]
  },
  {
   "cell_type": "markdown",
   "metadata": {},
   "source": [
    "ANSWER: The multi-class version didn't improve the results."
   ]
  },
  {
   "cell_type": "markdown",
   "metadata": {},
   "source": [
    "(8) Use GridSearchCV to perform a search over values of alpha (the Laplace smoothing parameter) in a Bernoulli NB model. What is the best value for alpha? What is the accuracy when alpha=0? Is this what you'd expect?\n",
    "\n",
    "- Note that GridSearchCV partitions the training data so the results will be a bit different than if you used the dev data for evaluation."
   ]
  },
  {
   "cell_type": "code",
   "execution_count": 27,
   "metadata": {
    "collapsed": false
   },
   "outputs": [
    {
     "name": "stderr",
     "output_type": "stream",
     "text": [
      "C:\\Users\\cyhu\\AppData\\Local\\Continuum\\Anaconda3\\lib\\site-packages\\sklearn\\naive_bayes.py:766: RuntimeWarning: divide by zero encountered in log\n",
      "  self.feature_log_prob_ = (np.log(smoothed_fc)\n",
      "C:\\Users\\cyhu\\AppData\\Local\\Continuum\\Anaconda3\\lib\\site-packages\\sklearn\\naive_bayes.py:766: RuntimeWarning: divide by zero encountered in log\n",
      "  self.feature_log_prob_ = (np.log(smoothed_fc)\n",
      "C:\\Users\\cyhu\\AppData\\Local\\Continuum\\Anaconda3\\lib\\site-packages\\sklearn\\naive_bayes.py:785: RuntimeWarning: divide by zero encountered in log\n",
      "  neg_prob = np.log(1 - np.exp(self.feature_log_prob_))\n",
      "C:\\Users\\cyhu\\AppData\\Local\\Continuum\\Anaconda3\\lib\\site-packages\\sklearn\\naive_bayes.py:766: RuntimeWarning: divide by zero encountered in log\n",
      "  self.feature_log_prob_ = (np.log(smoothed_fc)\n"
     ]
    },
    {
     "data": {
      "text/plain": [
       "GridSearchCV(cv=None, error_score='raise',\n",
       "       estimator=BernoulliNB(alpha=1.0, binarize=0.5, class_prior=None, fit_prior=True),\n",
       "       fit_params={}, iid=True, n_jobs=1,\n",
       "       param_grid={'alpha': [0.0, 0.0001, 0.001, 0.01, 0.1, 0.5, 1.0, 2.0, 10.0]},\n",
       "       pre_dispatch='2*n_jobs', refit=True, scoring=None, verbose=0)"
      ]
     },
     "execution_count": 27,
     "metadata": {},
     "output_type": "execute_result"
    }
   ],
   "source": [
    "#def P8(alphas):\n",
    "\n",
    "### STUDENT START ###\n",
    "alphas = {'alpha': [0.0, 0.0001, 0.001, 0.01, 0.1, 0.5, 1.0, 2.0, 10.0]}\n",
    "bern2 = BernoulliNB(binarize=0.5)\n",
    "gs = GridSearchCV(bern2, alphas)\n",
    "gs.fit(mini_train_data,mini_train_labels)\n",
    "\n",
    "    #print('alpha:', a, 'bernoulli accuracy: %3.2f;' % bern2.score(dev_data, dev_labels))\n",
    "\n",
    "### STUDENT END ###\n",
    "\n",
    "#alphas = {'alpha': [0.0, 0.0001, 0.001, 0.01, 0.1, 0.5, 1.0, 2.0, 10.0]}\n",
    "#nb = P8(alphas)"
   ]
  },
  {
   "cell_type": "code",
   "execution_count": 33,
   "metadata": {
    "collapsed": false
   },
   "outputs": [
    {
     "data": {
      "text/plain": [
       "[mean: 0.09200, std: 0.00080, params: {'alpha': 0.0},\n",
       " mean: 0.81800, std: 0.02216, params: {'alpha': 0.0001},\n",
       " mean: 0.82000, std: 0.02073, params: {'alpha': 0.001},\n",
       " mean: 0.82100, std: 0.01811, params: {'alpha': 0.01},\n",
       " mean: 0.81500, std: 0.02013, params: {'alpha': 0.1},\n",
       " mean: 0.80000, std: 0.01188, params: {'alpha': 0.5},\n",
       " mean: 0.79500, std: 0.01145, params: {'alpha': 1.0},\n",
       " mean: 0.78400, std: 0.01934, params: {'alpha': 2.0},\n",
       " mean: 0.72000, std: 0.02495, params: {'alpha': 10.0}]"
      ]
     },
     "execution_count": 33,
     "metadata": {},
     "output_type": "execute_result"
    }
   ],
   "source": [
    "gs.best_params_\n",
    "gs.best_score_ \n",
    "gs.grid_scores_\n",
    "#gs.best_estimator_"
   ]
  },
  {
   "cell_type": "code",
   "execution_count": 14,
   "metadata": {
    "collapsed": false
   },
   "outputs": [],
   "source": [
    "#print nb.best_params_"
   ]
  },
  {
   "cell_type": "markdown",
   "metadata": {},
   "source": [
    "ANSWER: The best value for alpha is 0.01. The accuracy of alpha =0 is only 0.092 which is much lower than I expected."
   ]
  },
  {
   "cell_type": "markdown",
   "metadata": {},
   "source": [
    "(9) Try training a model using GuassianNB, which is intended for real-valued features, and evaluate on the dev data. You'll notice that it doesn't work so well. Try to diagnose the problem. You should be able to find a simple fix that returns the accuracy to around the same rate as BernoulliNB. Explain your solution.\n",
    "\n",
    "Hint: examine the parameters estimated by the fit() method, theta\\_ and sigma\\_."
   ]
  },
  {
   "cell_type": "code",
   "execution_count": 36,
   "metadata": {
    "collapsed": false
   },
   "outputs": [
    {
     "name": "stdout",
     "output_type": "stream",
     "text": [
      "Gaussian accuracy: 0.62\n",
      "[[ 0.  0.  0. ...,  0.  0.  0.]\n",
      " [ 0.  0.  0. ...,  0.  0.  0.]\n",
      " [ 0.  0.  0. ...,  0.  0.  0.]\n",
      " ..., \n",
      " [ 0.  0.  0. ...,  0.  0.  0.]\n",
      " [ 0.  0.  0. ...,  0.  0.  0.]\n",
      " [ 0.  0.  0. ...,  0.  0.  0.]]\n",
      "\n",
      "[[  1.98697608e-10   1.98697608e-10   1.98697608e-10 ...,   1.98697608e-10\n",
      "    1.98697608e-10   1.98697608e-10]\n",
      " [  1.98697608e-10   1.98697608e-10   1.98697608e-10 ...,   1.98697608e-10\n",
      "    1.98697608e-10   1.98697608e-10]\n",
      " [  1.98697608e-10   1.98697608e-10   1.98697608e-10 ...,   1.98697608e-10\n",
      "    1.98697608e-10   1.98697608e-10]\n",
      " ..., \n",
      " [  1.98697608e-10   1.98697608e-10   1.98697608e-10 ...,   1.98697608e-10\n",
      "    1.98697608e-10   1.98697608e-10]\n",
      " [  1.98697608e-10   1.98697608e-10   1.98697608e-10 ...,   1.98697608e-10\n",
      "    1.98697608e-10   1.98697608e-10]\n",
      " [  1.98697608e-10   1.98697608e-10   1.98697608e-10 ...,   1.98697608e-10\n",
      "    1.98697608e-10   1.98697608e-10]]\n"
     ]
    }
   ],
   "source": [
    "#def P9():\n",
    "\n",
    "### STUDENT END ###\n",
    "gau = GaussianNB()\n",
    "gau.fit(mini_train_data, mini_train_labels)\n",
    "print('Gaussian accuracy: %3.2f' % gau.score(dev_data, dev_labels))\n",
    "\n",
    "#check mean of each feature per class, all zero?\n",
    "print(gau.theta_)\n",
    "# check variance of each feature per class, the same?\n",
    "print()\n",
    "print(gau.sigma_)\n",
    "### STUDENT END ###\n",
    "\n",
    "#gnb = P9()"
   ]
  },
  {
   "cell_type": "markdown",
   "metadata": {},
   "source": [
    "ANSWER: The GaussianNB assumes that features follow normal distribution which may not be true."
   ]
  },
  {
   "cell_type": "code",
   "execution_count": 42,
   "metadata": {
    "collapsed": false
   },
   "outputs": [
    {
     "data": {
      "text/plain": [
       "(1000, 784)"
      ]
     },
     "execution_count": 42,
     "metadata": {},
     "output_type": "execute_result"
    },
    {
     "data": {
      "image/png": "[encoded data removed]",
      "text/plain": [
       "<matplotlib.figure.Figure at 0x171df54d438>"
      ]
     },
     "metadata": {},
     "output_type": "display_data"
    }
   ],
   "source": [
    "plt.hist(mini_train_data[:,1])\n",
    "mini_train_data.shape"
   ]
  },
  {
   "cell_type": "markdown",
   "metadata": {},
   "source": [
    "(10) Because Naive Bayes is a generative model, we can use the trained model to generate digits. Train a BernoulliNB model and then generate a 10x20 grid with 20 examples of each digit. Because you're using a Bernoulli model, each pixel output will be either 0 or 1. How do the generated digits compare to the training digits?\n",
    "\n",
    "- You can use np.random.rand() to generate random numbers from a uniform distribution\n",
    "- The estimated probability of each pixel is stored in feature\\_log\\_prob\\_. You'll need to use np.exp() to convert a log probability back to a probability."
   ]
  },
  {
   "cell_type": "code",
   "execution_count": 79,
   "metadata": {
    "collapsed": false
   },
   "outputs": [
    {
     "data": {
      "image/png": "[encoded data removed]",
      "text/plain": [
       "<matplotlib.figure.Figure at 0x171e360a9e8>"
      ]
     },
     "metadata": {},
     "output_type": "display_data"
    }
   ],
   "source": [
    "#def P10(num_examples):\n",
    "num_examples=20\n",
    "### STUDENT START ###\n",
    "bern3 = BernoulliNB(binarize=0.5, alpha=0.01)\n",
    "bern3.fit(mini_train_data,mini_train_labels)\n",
    "# print(bern3.feature_log_prob_.shape)\n",
    "# y=0\n",
    "# pb = np.exp(bern3.feature_log_prob_)[y]\n",
    "# pb = pb.reshape(28,28)\n",
    "# plt.title('Label: %i' % mini_train_labels[y])\n",
    "# for i in range(num_examples):\n",
    "#     # generate random examples from [0,1] uniform distribution\n",
    "#     ex = np.random.rand(28,28)\n",
    "#     # if the generated probability < feature probablity, then it's 0-white;\n",
    "#     # otherwise it's black\n",
    "#     ex_fig = ex < pb\n",
    "#     # plot the example\n",
    "#     plt.subplot(num_examples, 1, i+1)\n",
    "#     plt.imshow(ex_fig,cmap=plt.cm.gray_r)\n",
    "    \n",
    "    \n",
    "# Initialize a new plot and set the size large enough so we can see each image.\n",
    "plt.figure(figsize=(15, 10))\n",
    "\n",
    "# Set a black on white colormap.\n",
    "plt.rc('image', cmap='binary', interpolation='none')\n",
    "\n",
    "count = 0\n",
    "for digit in range(10):\n",
    "    pb = np.exp(bern3.feature_log_prob_)[digit].reshape(28,28)\n",
    "    for index in range(20):\n",
    "        ex = np.random.rand(28,28)\n",
    "        ex_fig = ex < pb\n",
    "        ax = plt.subplot(10, 20, count + 1)\n",
    "        plt.setp(ax, xticks=(), yticks=())    \n",
    "        plt.imshow(ex_fig)\n",
    "        count += 1\n",
    "### STUDENT END ###\n",
    "\n",
    "\n",
    "\n",
    "\n",
    "#P10(20)"
   ]
  },
  {
   "cell_type": "markdown",
   "metadata": {},
   "source": [
    "ANSWER: The generated digits are not as clear as training digits as each pixel out is either 0 or 1."
   ]
  },
  {
   "cell_type": "markdown",
   "metadata": {},
   "source": [
    "(11) Remember that a strongly calibrated classifier is rougly 90% accurate when the posterior probability of the predicted class is 0.9. A weakly calibrated classifier is more accurate when the posterior is 90% than when it is 80%. A poorly calibrated classifier has no positive correlation between posterior and accuracy.\n",
    "\n",
    "Train a BernoulliNB model with a reasonable alpha value. For each posterior bucket (think of a bin in a histogram), you want to estimate the classifier's accuracy. So for each prediction, find the bucket the maximum posterior belongs to and update the \"correct\" and \"total\" counters.\n",
    "\n",
    "How would you characterize the calibration for the Naive Bayes model?"
   ]
  },
  {
   "cell_type": "code",
   "execution_count": 101,
   "metadata": {
    "collapsed": false
   },
   "outputs": [
    {
     "name": "stdout",
     "output_type": "stream",
     "text": [
      "p(pred) <= 0.5000000000000    total =  30    accuracy = 0.200\n",
      "p(pred) <= 0.9000000000000    total =  86    accuracy = 0.465\n",
      "p(pred) <= 0.9990000000000    total =  85    accuracy = 0.612\n",
      "p(pred) <= 0.9999900000000    total =  58    accuracy = 0.690\n",
      "p(pred) <= 0.9999999000000    total =  61    accuracy = 0.754\n",
      "p(pred) <= 0.9999999990000    total =  73    accuracy = 0.877\n",
      "p(pred) <= 0.9999999999900    total =  75    accuracy = 0.840\n",
      "p(pred) <= 0.9999999999999    total = 532    accuracy = 0.953\n",
      "p(pred) <= 1.0000000000000    total =   0    accuracy = 0.000\n"
     ]
    }
   ],
   "source": [
    "#def P11(buckets, correct, total):\n",
    "    \n",
    "### STUDENT START ###\n",
    "\n",
    "# posterior = P(Y|X), use Bern3 above bern3.predict(dev_data)\n",
    "pb3 = bern3.predict_proba(dev_data)  # shape (1000,10)\n",
    "pred3 = bern3.predict(dev_data)\n",
    "buckets = [0.5, 0.9, 0.999, 0.99999, 0.9999999, 0.999999999, 0.99999999999, 0.9999999999999, 1.0]\n",
    "correct = [0 for i in buckets]\n",
    "total = [0 for i in buckets]\n",
    "\n",
    "# find the bucket for each prediction\n",
    "pb_bucket = np.zeros(pb3.shape) + 0.5\n",
    "for i in range(pb3.shape[0]):\n",
    "    for j in range(pb3.shape[1]):\n",
    "        for k in range(len(buckets)):\n",
    "            if pb3[i][j]> buckets[k]:\n",
    "                pb_bucket[i][j] = buckets[k]\n",
    "#             if pred3[i] == dev_labels[i]:\n",
    "#                 correct[k] +=1\n",
    "#             total[k] +=1\n",
    "\n",
    "for i in range(len(pred3)):\n",
    "    k = int(pred3[i])\n",
    "    b = buckets.index(pb_bucket[i, k])\n",
    "    if pred3[i] == dev_labels[i]:\n",
    "        correct[b] += 1\n",
    "    total[b] += 1\n",
    "\n",
    "for i in range(len(buckets)):\n",
    "    accuracy = 0.0\n",
    "    if (total[i] > 0): accuracy = correct[i] / total[i]\n",
    "    print('p(pred) <= %.13f    total = %3d    accuracy = %.3f' %(buckets[i], total[i], accuracy))\n",
    "\n",
    "                \n",
    "### STUDENT END ###\n",
    "\n",
    "#buckets = [0.5, 0.9, 0.999, 0.99999, 0.9999999, 0.999999999, 0.99999999999, 0.9999999999999, 1.0]\n",
    "#correct = [0 for i in buckets]\n",
    "#total = [0 for i in buckets]\n",
    "\n",
    "#P11(buckets, correct, total)\n",
    "\n",
    "#for i in range(len(buckets)):\n",
    "#    accuracy = 0.0\n",
    "#    if (total[i] > 0): accuracy = correct[i] / total[i]\n",
    "#    print 'p(pred) <= %.13f    total = %3d    accuracy = %.3f' %(buckets[i], total[i], accuracy)"
   ]
  },
  {
   "cell_type": "code",
   "execution_count": 105,
   "metadata": {
    "collapsed": false
   },
   "outputs": [
    {
     "data": {
      "text/plain": [
       "818"
      ]
     },
     "execution_count": 105,
     "metadata": {},
     "output_type": "execute_result"
    }
   ],
   "source": [
    "sum(total)\n",
    "sum(correct)"
   ]
  },
  {
   "cell_type": "markdown",
   "metadata": {},
   "source": [
    "ANSWER:"
   ]
  },
  {
   "cell_type": "markdown",
   "metadata": {},
   "source": [
    "(12) EXTRA CREDIT\n",
    "\n",
    "Try designing extra features to see if you can improve the performance of Naive Bayes on the dev set. Here are a few ideas to get you started:\n",
    "- Try summing the pixel values in each row and each column.\n",
    "- Try counting the number of enclosed regions; 8 usually has 2 enclosed regions, 9 usually has 1, and 7 usually has 0.\n",
    "\n",
    "Make sure you comment your code well!"
   ]
  },
  {
   "cell_type": "code",
   "execution_count": 18,
   "metadata": {
    "collapsed": false
   },
   "outputs": [],
   "source": [
    "#def P12():\n",
    "\n",
    "### STUDENT START ###\n",
    "\n",
    "\n",
    "### STUDENT END ###\n",
    "\n",
    "#P12()"
   ]
  }
 ],
 "metadata": {
  "anaconda-cloud": {},
  "kernelspec": {
   "display_name": "Python [Root]",
   "language": "python",
   "name": "Python [Root]"
  },
  "language_info": {
   "codemirror_mode": {
    "name": "ipython",
    "version": 3
   },
   "file_extension": ".py",
   "mimetype": "text/x-python",
   "name": "python",
   "nbconvert_exporter": "python",
   "pygments_lexer": "ipython3",
   "version": "3.5.2"
  }
 },
 "nbformat": 4,
 "nbformat_minor": 0
}
